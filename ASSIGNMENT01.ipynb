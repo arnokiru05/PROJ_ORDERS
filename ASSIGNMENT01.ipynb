{
 "cells": [
  {
   "cell_type": "code",
   "execution_count": 4,
   "id": "a7b61ac6",
   "metadata": {},
   "outputs": [
    {
     "name": "stdout",
     "output_type": "stream",
     "text": [
      "4 raised to the power of 2 is 16\n"
     ]
    }
   ],
   "source": [
    "base=4\n",
    "exponent=2\n",
    "result=base**exponent\n",
    "print(f\"{base} raised to the power of {exponent} is {result}\")\n",
    "\n",
    "#power operator.\n",
    "# order of operations follow the basic bodmas order."
   ]
  },
  {
   "cell_type": "markdown",
   "id": "9200c839",
   "metadata": {},
   "source": [
    "### CASTING"
   ]
  },
  {
   "cell_type": "markdown",
   "id": "9ffc77c2",
   "metadata": {},
   "source": [
    "Process of changing an object from one data type to another.\n",
    "note: python is typed dynamically therefore, you don't explicitly declare the type of variables, however sometimes you need to convert a value to a specific type for an operation or to meet certain requirements."
   ]
  },
  {
   "cell_type": "code",
   "execution_count": 32,
   "id": "5fcdd17f",
   "metadata": {},
   "outputs": [
    {
     "data": {
      "text/plain": [
       "{'a', 'c', 'm', 'r', 's', 'u'}"
      ]
     },
     "execution_count": 32,
     "metadata": {},
     "output_type": "execute_result"
    }
   ],
   "source": [
    "#converts to integer\n",
    "int(2.5)\n",
    "#converts to string\n",
    "str(2.5)\n",
    "#converts to bool-all values except 0,false,none and empty sequences or collections return true\n",
    "bool(7.6)\n",
    "#float\n",
    "float(93)\n",
    "#list\n",
    "list(\"marcus\")\n",
    "#tuple\n",
    "tuple(\"marcus\")\n",
    "#set\n",
    "set(\"marcus\")\n"
   ]
  },
  {
   "cell_type": "markdown",
   "id": "262a5c43",
   "metadata": {},
   "source": [
    "### DICTIONARY CREATION"
   ]
  },
  {
   "cell_type": "code",
   "execution_count": 35,
   "id": "b5efed86",
   "metadata": {},
   "outputs": [
    {
     "name": "stdout",
     "output_type": "stream",
     "text": [
      "{'name': 'Bob', 'age': 25, 'country': 'Canada'}\n"
     ]
    }
   ],
   "source": [
    "#dictionary creation-tuple pairs\n",
    "pairs = [(\"name\", \"Bob\"), (\"age\", 25), (\"country\", \"Canada\")]\n",
    "another_dict = dict(pairs)\n",
    "print(another_dict)  # Output: {'name': 'Bob', 'age': 25, 'country': 'Canada'}"
   ]
  },
  {
   "cell_type": "code",
   "execution_count": 34,
   "id": "73184b82",
   "metadata": {},
   "outputs": [
    {
     "name": "stdout",
     "output_type": "stream",
     "text": [
      "{'fruit': 'apple', 'color': 'red', 'price': 1.0}\n"
     ]
    }
   ],
   "source": [
    "#using keyword arguments\n",
    "yet_another_dict = dict(fruit=\"apple\", color=\"red\", price=1.0)\n",
    "print(yet_another_dict) # Output: {'fruit': 'apple', 'color': 'red', 'price': 1.0}"
   ]
  },
  {
   "cell_type": "code",
   "execution_count": 33,
   "id": "fb28bea0",
   "metadata": {},
   "outputs": [
    {
     "name": "stdout",
     "output_type": "stream",
     "text": [
      "{'a': 1, 'b': 2, 'c': 3}\n"
     ]
    }
   ],
   "source": [
    "#using 2 iterables(keys and values)\n",
    "keys = [\"a\", \"b\", \"c\"]\n",
    "values = [1, 2, 3]\n",
    "from_iterables = dict(zip(keys, values))\n",
    "print(from_iterables) # Output: {'a': 1, 'b': 2, 'c': 3}"
   ]
  },
  {
   "cell_type": "markdown",
   "id": "264a9473",
   "metadata": {},
   "source": [
    "### LOADING A DATASET"
   ]
  },
  {
   "cell_type": "markdown",
   "id": "7996dc1e",
   "metadata": {},
   "source": [
    "There are several methods on how to load data depending on the data format and source.\n",
    "   #### A. Using Pandas:"
   ]
  },
  {
   "cell_type": "markdown",
   "id": "f329d85e",
   "metadata": {},
   "source": [
    "While working with csv files(comma-separated-values) we may use pandas. What is panda, this is a manipulation library. For us to make use of it, we first have to import it onto our script.\n",
    " - import pandas as pd : imports the pandas with pd as the alias.\n",
    " - read_csv(\"file_name.csv\") : this is the fxn we use to load the data onto our script into a dataframe.\n",
    " The dataframe takes the shape of a 2-dimensional table-like structure with rows and columns with the result being assigned to a variable that holds the data from the file for further processing or analysis.\n",
    "\n",
    "    import pandas as pd\n",
    "    df=pd.read_csv(\"file.csv\")\n"
   ]
  },
  {
   "cell_type": "markdown",
   "id": "9a49b93c",
   "metadata": {},
   "source": [
    "While working with excel files we may also use pandas.Takes the same format as the csv script but now there's a small difference on the script.\n",
    "\n",
    "    import pandas as pd\n",
    "    df=pd.read_excel(\"file.xlsx\")"
   ]
  },
  {
   "cell_type": "markdown",
   "id": "1800afd5",
   "metadata": {},
   "source": [
    "#### B. Using NumPy:"
   ]
  }
 ],
 "metadata": {
  "kernelspec": {
   "display_name": "base",
   "language": "python",
   "name": "python3"
  },
  "language_info": {
   "codemirror_mode": {
    "name": "ipython",
    "version": 3
   },
   "file_extension": ".py",
   "mimetype": "text/x-python",
   "name": "python",
   "nbconvert_exporter": "python",
   "pygments_lexer": "ipython3",
   "version": "3.12.7"
  }
 },
 "nbformat": 4,
 "nbformat_minor": 5
}
